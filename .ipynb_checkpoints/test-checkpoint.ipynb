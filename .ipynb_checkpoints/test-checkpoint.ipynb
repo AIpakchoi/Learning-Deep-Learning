{
 "cells": [
  {
   "cell_type": "code",
   "execution_count": 1,
   "metadata": {
    "collapsed": false
   },
   "outputs": [
    {
     "data": {
      "text/plain": [
       "[name: \"/cpu:0\"\n",
       " device_type: \"CPU\"\n",
       " memory_limit: 268435456\n",
       " locality {\n",
       " }\n",
       " incarnation: 5543378243672165480]"
      ]
     },
     "execution_count": 1,
     "metadata": {},
     "output_type": "execute_result"
    }
   ],
   "source": [
    "import tensorflow as tf\n",
    "from tensorflow.python.client import device_lib\n",
    "device_lib.list_local_devices()"
   ]
  },
  {
   "cell_type": "code",
   "execution_count": 17,
   "metadata": {
    "collapsed": false
   },
   "outputs": [
    {
     "name": "stdout",
     "output_type": "stream",
     "text": [
      "2.21138e+09\n",
      "\n",
      "\n",
      "\n",
      "\n",
      "('Shape:', (1000, 2000), 'Device:', '/cpu:0')\n",
      "('Time taken:', 0.3183300495147705)\n",
      "\n",
      "\n",
      "\n",
      "\n",
      "1.68682e+10\n",
      "\n",
      "\n",
      "\n",
      "\n",
      "('Shape:', (2000, 4000), 'Device:', '/cpu:0')\n",
      "('Time taken:', 1.332108974456787)\n",
      "\n",
      "\n",
      "\n",
      "\n"
     ]
    }
   ],
   "source": [
    "import sys\n",
    "import numpy as np\n",
    "import tensorflow as tf\n",
    "from datetime import datetime\n",
    "import time\n",
    "\n",
    "for SIZE in [1000, 2000]:\n",
    "    device_name = 'cpu'  # Choose device from cmd line. Options: gpu or cpu\n",
    "    shape = (SIZE, SIZE*2)\n",
    "    if device_name == \"gpu\":\n",
    "        device_name = \"/gpu:0\"\n",
    "    else:\n",
    "        device_name = \"/cpu:0\"\n",
    "\n",
    "    with tf.device(device_name):\n",
    "        random_matrix = tf.random_normal(shape=shape, stddev=10, mean=1)\n",
    "        dot_operation = tf.matmul(random_matrix, tf.transpose(random_matrix))\n",
    "        sum_operation = tf.reduce_sum(dot_operation)\n",
    "    \n",
    "\n",
    "    startTime = time.time()\n",
    "    with tf.Session(config=tf.ConfigProto(allow_soft_placement=True, log_device_placement=True)) as session:\n",
    "            result = session.run(sum_operation)\n",
    "            print(result)\n",
    "\n",
    "    # It can be hard to see the results on the terminal with lots of output -- add some newlines to improve readability.\n",
    "    print(\"\\n\" * 3)\n",
    "    print(\"Shape:\", shape, \"Device:\", device_name)\n",
    "    print(\"Time taken:\", time.time() - startTime)\n",
    "\n",
    "    print(\"\\n\" * 3)"
   ]
  },
  {
   "cell_type": "code",
   "execution_count": 31,
   "metadata": {
    "collapsed": false
   },
   "outputs": [
    {
     "name": "stdout",
     "output_type": "stream",
     "text": [
      "9703.78\n"
     ]
    }
   ],
   "source": [
    "shape = (10, 1000)\n",
    "device_names = ['/cpu:0', '/gpu:1']\n",
    "for device_name in device_names:\n",
    "    with tf.device(device_name):\n",
    "        random_matrix = tf.random_normal(stddev=1, mean=0, shape=shape, name='a')\n",
    "        dot_operation = tf.matmul(random_matrix, tf.transpose(random_matrix))\n",
    "        sum_operation = tf.reduce_sum(dot_operation)\n",
    "\n",
    "sess = tf.Session(config=tf.ConfigProto(allow_soft_placement=True, log_device_placement=True))\n",
    "result = sess.run(sum_operation)\n",
    "print(result)\n"
   ]
  },
  {
   "cell_type": "code",
   "execution_count": 12,
   "metadata": {
    "collapsed": false
   },
   "outputs": [
    {
     "data": {
      "text/plain": [
       "<tf.Tensor 'Sum_10:0' shape=() dtype=float32>"
      ]
     },
     "execution_count": 12,
     "metadata": {},
     "output_type": "execute_result"
    }
   ],
   "source": [
    "sum_operation"
   ]
  },
  {
   "cell_type": "code",
   "execution_count": 12,
   "metadata": {
    "collapsed": false
   },
   "outputs": [
    {
     "name": "stdout",
     "output_type": "stream",
     "text": [
      "[[ 22.  28.]\n",
      " [ 49.  64.]]\n"
     ]
    }
   ],
   "source": [
    "# Creates a graph.\n",
    "with tf.device('/cpu:1'):\n",
    "    a = tf.constant([1.0, 2.0, 3.0, 4.0, 5.0, 6.0], shape=[2, 3], name='a')\n",
    "    b = tf.constant([1.0, 2.0, 3.0, 4.0, 5.0, 6.0], shape=[3, 2], name='b')\n",
    "    c = tf.matmul(a, b)\n",
    "# Creates a session with log_device_placement set to True.\n",
    "sess = tf.Session(config=tf.ConfigProto(allow_soft_placement=True, log_device_placement=True))\n",
    "# Runs the op.\n",
    "print sess.run(c)"
   ]
  },
  {
   "cell_type": "code",
   "execution_count": null,
   "metadata": {
    "collapsed": true
   },
   "outputs": [],
   "source": []
  },
  {
   "cell_type": "code",
   "execution_count": null,
   "metadata": {
    "collapsed": true
   },
   "outputs": [],
   "source": []
  }
 ],
 "metadata": {
  "kernelspec": {
   "display_name": "Python 2",
   "language": "python",
   "name": "python2"
  },
  "language_info": {
   "codemirror_mode": {
    "name": "ipython",
    "version": 2
   },
   "file_extension": ".py",
   "mimetype": "text/x-python",
   "name": "python",
   "nbconvert_exporter": "python",
   "pygments_lexer": "ipython2",
   "version": "2.7.10"
  }
 },
 "nbformat": 4,
 "nbformat_minor": 0
}
