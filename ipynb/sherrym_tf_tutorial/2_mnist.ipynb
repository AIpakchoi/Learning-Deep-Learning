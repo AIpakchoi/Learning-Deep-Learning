{
 "cells": [
  {
   "cell_type": "markdown",
   "metadata": {},
   "source": [
    "The detailed documentation can be found at:\n",
    "https://www.tensorflow.org/get_started/mnist/mechanics\n",
    "\n",
    "This notebook is a simplified version of two python scripts:\n",
    "\n",
    "1. `from tensorflow.examples.tutorial.mnist import mnist`\n",
    "https://github.com/tensorflow/tensorflow/blob/master/tensorflow/examples/tutorials/mnist/mnist.py\n",
    "\n",
    "2. `from tensorflow.examples.tutorial.mnist import fully_connected_feed`\n",
    "https://github.com/tensorflow/tensorflow/blob/master/tensorflow/examples/tutorials/mnist/fully_connected_feed.py"
   ]
  },
  {
   "cell_type": "code",
   "execution_count": 1,
   "metadata": {
    "collapsed": false
   },
   "outputs": [
    {
     "data": {
      "text/plain": [
       "[name: \"/cpu:0\"\n",
       " device_type: \"CPU\"\n",
       " memory_limit: 268435456\n",
       " locality {\n",
       " }\n",
       " incarnation: 12246512999959856101]"
      ]
     },
     "execution_count": 1,
     "metadata": {},
     "output_type": "execute_result"
    }
   ],
   "source": [
    "from tensorflow.python.client import device_lib\n",
    "device_lib.list_local_devices()"
   ]
  },
  {
   "cell_type": "code",
   "execution_count": 2,
   "metadata": {
    "collapsed": true
   },
   "outputs": [],
   "source": [
    "# 2.1 Import libraries.\n",
    "import math\n",
    "import os\n",
    "import six\n",
    "from six.moves import xrange  # pylint: disable=redefined-builtin\n",
    "import numpy as np\n",
    "import tensorflow as tf\n",
    "# from tensorflow.contrib.learn.python.learn.datasets.mnist import read_data_sets\n",
    "from tensorflow.contrib.learn.python.learn.datasets import mnist\n",
    "\n",
    "%matplotlib inline\n",
    "import matplotlib.pyplot as plt"
   ]
  },
  {
   "cell_type": "code",
   "execution_count": 3,
   "metadata": {
    "collapsed": false
   },
   "outputs": [],
   "source": [
    "# 2.2 Define some constants.\n",
    "# The MNIST dataset has 10 classes, representing the digits 0 through 9.\n",
    "NUM_CLASSES = 10\n",
    "\n",
    "# The MNIST images are always 28x28 pixels.\n",
    "IMAGE_SIZE = 28\n",
    "IMAGE_PIXELS = IMAGE_SIZE * IMAGE_SIZE\n",
    "\n",
    "# Batch size. Must be evenly dividable by dataset sizes.\n",
    "BATCH_SIZE = 100\n",
    "EVAL_BATCH_SIZE = 1\n",
    "\n",
    "# Number of units in hidden layers.\n",
    "HIDDEN1_UNITS = 128\n",
    "HIDDEN2_UNITS = 32\n",
    "\n",
    "# Maximum number of training steps.\n",
    "MAX_STEPS = 2000\n",
    "\n",
    "# Directory to put the training data.\n",
    "TRAIN_DIR=\"/tmp/mnist\""
   ]
  },
  {
   "cell_type": "code",
   "execution_count": 4,
   "metadata": {
    "collapsed": false
   },
   "outputs": [
    {
     "name": "stdout",
     "output_type": "stream",
     "text": [
      "I am running Python 2!\n"
     ]
    }
   ],
   "source": [
    "if six.PY3:\n",
    "    print('I am running Python 3!')\n",
    "elif six.PY2:\n",
    "    print('I am running Python 2!')\n",
    "else:\n",
    "    print('Python version uncertain...')"
   ]
  },
  {
   "cell_type": "code",
   "execution_count": 5,
   "metadata": {
    "collapsed": false
   },
   "outputs": [
    {
     "name": "stdout",
     "output_type": "stream",
     "text": [
      "Extracting /tmp/mnist/train-images-idx3-ubyte.gz\n",
      "Extracting /tmp/mnist/train-labels-idx1-ubyte.gz\n",
      "Extracting /tmp/mnist/t10k-images-idx3-ubyte.gz\n",
      "Extracting /tmp/mnist/t10k-labels-idx1-ubyte.gz\n"
     ]
    }
   ],
   "source": [
    "# 2.3 Get input data: get the sets of images and labels for training, validation, and\n",
    "# test on MNIST.\n",
    "data_sets = mnist.read_data_sets(TRAIN_DIR, one_hot=False)"
   ]
  },
  {
   "cell_type": "code",
   "execution_count": 6,
   "metadata": {
    "collapsed": false
   },
   "outputs": [
    {
     "data": {
      "text/plain": [
       "array([7, 3, 4, ..., 5, 6, 8], dtype=uint8)"
      ]
     },
     "execution_count": 6,
     "metadata": {},
     "output_type": "execute_result"
    }
   ],
   "source": [
    "data_sets.train._labels"
   ]
  },
  {
   "cell_type": "code",
   "execution_count": 7,
   "metadata": {
    "collapsed": false
   },
   "outputs": [
    {
     "data": {
      "text/plain": [
       "(array([ 165.,  212.,  287.,  374.,  426.,  571.,  692.,  733.,  812.,\n",
       "         800.,  758.,  794.,  757.,  665.,  554.,  431.,  352.,  273.,\n",
       "         197.,  147.]),\n",
       " array([ -1.99482095e+00,  -1.79516032e+00,  -1.59549969e+00,\n",
       "         -1.39583907e+00,  -1.19617844e+00,  -9.96517807e-01,\n",
       "         -7.96857178e-01,  -5.97196549e-01,  -3.97535920e-01,\n",
       "         -1.97875291e-01,   1.78533792e-03,   2.01445967e-01,\n",
       "          4.01106596e-01,   6.00767225e-01,   8.00427854e-01,\n",
       "          1.00008848e+00,   1.19974911e+00,   1.39940974e+00,\n",
       "          1.59907037e+00,   1.79873100e+00,   1.99839163e+00]),\n",
       " <a list of 20 Patch objects>)"
      ]
     },
     "execution_count": 7,
     "metadata": {},
     "output_type": "execute_result"
    },
    {
     "data": {
      "image/png": "[encoded data removed]",
      "text/plain": [
       "<matplotlib.figure.Figure at 0x105f18c50>"
      ]
     },
     "metadata": {},
     "output_type": "display_data"
    }
   ],
   "source": [
    "# truncated_normal discard values beyond 2\\sigma and resamples\n",
    "a = tf.truncated_normal([10000, 1])\n",
    "b = tf.Session().run(a)\n",
    "plt.hist(b, bins=20)"
   ]
  },
  {
   "cell_type": "code",
   "execution_count": 6,
   "metadata": {
    "collapsed": true
   },
   "outputs": [],
   "source": [
    "# 2.4 Build inference graph.\n",
    "def mnist_inference(images, hidden1_units, hidden2_units):\n",
    "    \"\"\"Build the MNIST model up to where it may be used for inference.\n",
    "    Args:\n",
    "        images: Images placeholder.\n",
    "        hidden1_units: Size of the first hidden layer.\n",
    "        hidden2_units: Size of the second hidden layer.\n",
    "    Returns:\n",
    "        logits: Output tensor with the computed logits.\n",
    "    \"\"\"\n",
    "    # Hidden 1\n",
    "    with tf.name_scope('hidden1'):\n",
    "        weights = tf.Variable(\n",
    "            tf.truncated_normal([IMAGE_PIXELS, hidden1_units],\n",
    "                                stddev=1.0 / math.sqrt(float(IMAGE_PIXELS))), # why normalize?\n",
    "            name='weights')\n",
    "        biases = tf.Variable(tf.zeros([hidden1_units]),\n",
    "                             name='biases')\n",
    "        hidden1 = tf.nn.relu(tf.matmul(images, weights) + biases)\n",
    "    # Hidden 2\n",
    "    with tf.name_scope('hidden2'):\n",
    "        weights = tf.Variable(\n",
    "            tf.truncated_normal([hidden1_units, hidden2_units],\n",
    "                                stddev=1.0 / math.sqrt(float(hidden1_units))),\n",
    "            name='weights')\n",
    "        biases = tf.Variable(tf.zeros([hidden2_units]),\n",
    "                             name='biases')\n",
    "        hidden2 = tf.nn.relu(tf.matmul(hidden1, weights) + biases)\n",
    "    # Linear\n",
    "    with tf.name_scope('softmax_linear'):\n",
    "        weights = tf.Variable(\n",
    "            tf.truncated_normal([hidden2_units, NUM_CLASSES],\n",
    "                                stddev=1.0 / math.sqrt(float(hidden2_units))),\n",
    "            name='weights')\n",
    "        biases = tf.Variable(tf.zeros([NUM_CLASSES]),\n",
    "                             name='biases')\n",
    "        logits = tf.matmul(hidden2, weights) + biases\n",
    "\n",
    "    # Uncomment the following line to see what we have constructed.\n",
    "    # tf.train.write_graph(tf.get_default_graph().as_graph_def(),\n",
    "    #                      \"/tmp\", \"inference.pbtxt\", as_text=True)\n",
    "    return logits"
   ]
  },
  {
   "cell_type": "code",
   "execution_count": 7,
   "metadata": {
    "collapsed": true
   },
   "outputs": [],
   "source": [
    "# 2.5 Build training graph.\n",
    "def mnist_training(logits, labels, learning_rate):\n",
    "    \"\"\"Build the training graph.\n",
    "\n",
    "    Args:\n",
    "        logits: Logits tensor, float - [BATCH_SIZE, NUM_CLASSES].\n",
    "        labels: Labels tensor, int32 - [BATCH_SIZE], with values in the\n",
    "          range [0, NUM_CLASSES).\n",
    "        learning_rate: The learning rate to use for gradient descent.\n",
    "    Returns:\n",
    "        train_op: The Op for training.\n",
    "        loss: The Op for calculating loss.\n",
    "    \"\"\"\n",
    "    # Create an operation that calculates loss.\n",
    "    labels = tf.to_int64(labels)\n",
    "    # tf.nn.softmax_cross_entropy_with_logits() works with one-hot encoding\n",
    "    cross_entropy = tf.nn.sparse_softmax_cross_entropy_with_logits(\n",
    "        logits=logits, labels=labels, name='xentropy')\n",
    "    loss = tf.reduce_mean(cross_entropy, name='xentropy_mean')\n",
    "    # Create the gradient descent optimizer with the given learning rate.\n",
    "    optimizer = tf.train.GradientDescentOptimizer(learning_rate)\n",
    "    # Create a variable to track the global step.\n",
    "    global_step = tf.Variable(0, name='global_step', trainable=False)\n",
    "    # Use the optimizer to apply the gradients that minimize the loss\n",
    "    # (and also increment the global step counter) as a single training step.\n",
    "    train_op = optimizer.minimize(loss, global_step=global_step)\n",
    "\n",
    "    # Uncomment the following line to see what we have constructed.\n",
    "    # tf.train.write_graph(tf.get_default_graph().as_graph_def(),\n",
    "    #                      \"/tmp\", \"train.pbtxt\", as_text=True)\n",
    "\n",
    "    return train_op, loss"
   ]
  },
  {
   "cell_type": "code",
   "execution_count": 9,
   "metadata": {
    "collapsed": false
   },
   "outputs": [],
   "source": [
    "images_placeholder = tf.placeholder(tf.float32)                                       \n",
    "logits = mnist_inference(images_placeholder,\n",
    "                             HIDDEN1_UNITS,\n",
    "                             HIDDEN2_UNITS)"
   ]
  },
  {
   "cell_type": "code",
   "execution_count": 15,
   "metadata": {
    "collapsed": false
   },
   "outputs": [
    {
     "name": "stdout",
     "output_type": "stream",
     "text": [
      "Tensor(\"hidden1/weights:0\", shape=(784, 128), dtype=float32_ref)\n",
      "Tensor(\"hidden1/biases:0\", shape=(128,), dtype=float32_ref)\n",
      "Tensor(\"hidden2/weights:0\", shape=(128, 32), dtype=float32_ref)\n",
      "Tensor(\"hidden2/biases:0\", shape=(32,), dtype=float32_ref)\n",
      "Tensor(\"softmax_linear/weights:0\", shape=(32, 10), dtype=float32_ref)\n",
      "Tensor(\"softmax_linear/biases:0\", shape=(10,), dtype=float32_ref)\n"
     ]
    }
   ],
   "source": [
    "for x in tf.trainable_variables():\n",
    "    print(x._variable)"
   ]
  },
  {
   "cell_type": "code",
   "execution_count": 10,
   "metadata": {
    "collapsed": false
   },
   "outputs": [],
   "source": [
    "# 2.6 Build the complete graph for feeding inputs, training, and saving checkpoints.\n",
    "mnist_graph = tf.Graph()\n",
    "with mnist_graph.as_default():\n",
    "    # Generate placeholders for the images and labels.\n",
    "    images_placeholder = tf.placeholder(tf.float32)                                       \n",
    "    labels_placeholder = tf.placeholder(tf.int32)\n",
    "    tf.add_to_collection(\"images\", images_placeholder)  # Remember this Op.\n",
    "    tf.add_to_collection(\"labels\", labels_placeholder)  # Remember this Op.\n",
    "\n",
    "    # Build a Graph that computes predictions from the inference model.\n",
    "    logits = mnist_inference(images_placeholder,\n",
    "                             HIDDEN1_UNITS,\n",
    "                             HIDDEN2_UNITS)\n",
    "    tf.add_to_collection(\"logits\", logits)  # Remember this Op.\n",
    "\n",
    "    # Add to the Graph the Ops that calculate and apply gradients.\n",
    "    train_op, loss = mnist_training(logits, labels_placeholder, 0.01)\n",
    "\n",
    "    # Add the variable initializer Op.\n",
    "    init = tf.global_variables_initializer()\n",
    "\n",
    "    # Create a saver for writing training checkpoints.\n",
    "    saver = tf.train.Saver()\n",
    "    \n",
    "    # Uncomment the following line to see what we have constructed.\n",
    "    # tf.train.write_graph(tf.get_default_graph().as_graph_def(),\n",
    "    #                      \"/tmp\", \"complete.pbtxt\", as_text=True)"
   ]
  },
  {
   "cell_type": "code",
   "execution_count": 11,
   "metadata": {
    "collapsed": false
   },
   "outputs": [
    {
     "name": "stdout",
     "output_type": "stream",
     "text": [
      "Step 0: loss = 2.30\n",
      "Step 200: loss = 1.90\n",
      "Step 400: loss = 1.34\n",
      "Step 600: loss = 0.86\n",
      "Step 800: loss = 0.72\n",
      "Step 1000: loss = 0.51\n",
      "Step 1200: loss = 0.54\n",
      "Step 1400: loss = 0.57\n",
      "Step 1600: loss = 0.45\n",
      "Step 1800: loss = 0.39\n"
     ]
    }
   ],
   "source": [
    "# 2.7 Run training for MAX_STEPS and save checkpoint at the end.\n",
    "losses = []\n",
    "with tf.Session(graph=mnist_graph) as sess:\n",
    "    # Run the Op to initialize the variables.\n",
    "    sess.run(init)\n",
    "    \n",
    "    # Start the training loop.\n",
    "    for step in xrange(MAX_STEPS):\n",
    "        # Read a batch of images and labels.\n",
    "        images_feed, labels_feed = data_sets.train.next_batch(BATCH_SIZE)\n",
    "\n",
    "        # Run one step of the model.  The return values are the activations\n",
    "        # from the `train_op` (which is discarded) and the `loss` Op.  To\n",
    "        # inspect the values of your Ops or variables, you may include them\n",
    "        # in the list passed to sess.run() and the value tensors will be\n",
    "        # returned in the tuple from the call.\n",
    "        _, loss_value = sess.run([train_op, loss],\n",
    "                                 feed_dict={images_placeholder: images_feed,\n",
    "                                            labels_placeholder: labels_feed})\n",
    "        losses.append(loss_value)\n",
    "        # Print out loss value.\n",
    "        if step % 200 == 0:\n",
    "            print('Step %d: loss = %.2f' % (step, loss_value))\n",
    "\n",
    "    # Write a checkpoint.\n",
    "    checkpoint_file = os.path.join(TRAIN_DIR, 'checkpoint')\n",
    "    saver.save(sess, checkpoint_file, global_step=step)"
   ]
  },
  {
   "cell_type": "code",
   "execution_count": 13,
   "metadata": {
    "collapsed": false
   },
   "outputs": [
    {
     "data": {
      "text/plain": [
       "[]"
      ]
     },
     "execution_count": 13,
     "metadata": {},
     "output_type": "execute_result"
    }
   ],
   "source": [
    "tf.trainable_variables()"
   ]
  },
  {
   "cell_type": "code",
   "execution_count": 12,
   "metadata": {
    "collapsed": false
   },
   "outputs": [
    {
     "data": {
      "text/plain": [
       "[<matplotlib.lines.Line2D at 0x11381a150>]"
      ]
     },
     "execution_count": 12,
     "metadata": {},
     "output_type": "execute_result"
    },
    {
     "data": {
      "image/png": "[encoded data removed]",
      "text/plain": [
       "<matplotlib.figure.Figure at 0x111bf99d0>"
      ]
     },
     "metadata": {},
     "output_type": "display_data"
    }
   ],
   "source": [
    "plt.plot(losses, '.')a"
   ]
  },
  {
   "cell_type": "code",
   "execution_count": null,
   "metadata": {
    "collapsed": false
   },
   "outputs": [],
   "source": [
    "# 2.8 Run evaluation based on the saved checkpoint.\n",
    "with tf.Session(graph=tf.Graph()) as sess:\n",
    "    saver = tf.train.import_meta_graph(\n",
    "        os.path.join(TRAIN_DIR, \"checkpoint-1999.meta\"))\n",
    "    saver.restore(\n",
    "        sess, os.path.join(TRAIN_DIR, \"checkpoint-1999\"))\n",
    "\n",
    "    # Retrieve the Ops we 'remembered'.\n",
    "    logits = tf.get_collection(\"logits\")[0]\n",
    "    images_placeholder = tf.get_collection(\"images\")[0]\n",
    "    labels_placeholder = tf.get_collection(\"labels\")[0]\n",
    "    \n",
    "    # Add an Op that chooses the top k predictions.\n",
    "    eval_op = tf.nn.top_k(logits)\n",
    "    \n",
    "    # Run evaluation.\n",
    "    images_feed, labels_feed = data_sets.validation.next_batch(EVAL_BATCH_SIZE)\n",
    "    imgplot = plt.imshow(np.reshape(images_feed, (28, 28)))\n",
    "    prediction = sess.run(eval_op,\n",
    "                          feed_dict={images_placeholder: images_feed,\n",
    "                                     labels_placeholder: labels_feed})\n",
    "    print(\"Ground truth: %d\\nPrediction: %d\" % (labels_feed, prediction.indices[0][0]))"
   ]
  },
  {
   "cell_type": "markdown",
   "metadata": {
    "collapsed": true
   },
   "source": [
    "<p>Back to [1_linear_regression_model.ipynb](1_linear_regression_model.ipynb).</p>\n",
    "<p>Next to [Bonus Lab](extras/extras_0_deepdream.ipynb).</p>"
   ]
  },
  {
   "cell_type": "code",
   "execution_count": null,
   "metadata": {
    "collapsed": true
   },
   "outputs": [],
   "source": []
  },
  {
   "cell_type": "code",
   "execution_count": null,
   "metadata": {
    "collapsed": true
   },
   "outputs": [],
   "source": []
  },
  {
   "cell_type": "code",
   "execution_count": 1,
   "metadata": {
    "collapsed": false
   },
   "outputs": [
    {
     "data": {
      "text/plain": [
       "[name: \"/cpu:0\"\n",
       " device_type: \"CPU\"\n",
       " memory_limit: 268435456\n",
       " locality {\n",
       " }\n",
       " incarnation: 2216536706874777290]"
      ]
     },
     "execution_count": 1,
     "metadata": {},
     "output_type": "execute_result"
    }
   ],
   "source": [
    "from tensorflow.contrib.learn.python.learn.datasets import mnist\n",
    "from tensorflow.python.client import device_lib\n",
    "import tensorflow as tf\n",
    "import numpy as np\n",
    "import matplotlib.pylab as plt\n",
    "import os\n",
    "\n",
    "%matplotlib inline\n",
    "device_lib.list_local_devices()"
   ]
  },
  {
   "cell_type": "code",
   "execution_count": 2,
   "metadata": {
    "collapsed": false
   },
   "outputs": [
    {
     "name": "stdout",
     "output_type": "stream",
     "text": [
      "Extracting /tmp/mnist/train-images-idx3-ubyte.gz\n",
      "Extracting /tmp/mnist/train-labels-idx1-ubyte.gz\n",
      "Extracting /tmp/mnist/t10k-images-idx3-ubyte.gz\n",
      "Extracting /tmp/mnist/t10k-labels-idx1-ubyte.gz\n"
     ]
    }
   ],
   "source": [
    "TRAIN_DIR = r'/tmp/mnist/'\n",
    "datasets = mnist.read_data_sets(TRAIN_DIR, one_hot=True)\n"
   ]
  },
  {
   "cell_type": "code",
   "execution_count": 3,
   "metadata": {
    "collapsed": false
   },
   "outputs": [],
   "source": [
    "# constants \n",
    "n_hidden1 = 128\n",
    "n_hidden2 = 32\n",
    "imagesize = 784\n",
    "n_class = 10\n",
    "n_max_train = 2000\n",
    "n_batch = 100"
   ]
  },
  {
   "cell_type": "code",
   "execution_count": 4,
   "metadata": {
    "collapsed": true
   },
   "outputs": [],
   "source": [
    "tf.reset_default_graph()"
   ]
  },
  {
   "cell_type": "code",
   "execution_count": 5,
   "metadata": {
    "collapsed": false
   },
   "outputs": [
    {
     "data": {
      "text/plain": [
       "[]"
      ]
     },
     "execution_count": 5,
     "metadata": {},
     "output_type": "execute_result"
    }
   ],
   "source": [
    "[x._variable for x in tf.trainable_variables()]"
   ]
  },
  {
   "cell_type": "code",
   "execution_count": 27,
   "metadata": {
    "collapsed": false
   },
   "outputs": [],
   "source": [
    "def mnist_inference(image_data):\n",
    "    \n",
    "    # hidden_1\n",
    "    with tf.name_scope('hidden_1'):\n",
    "        weights_1 = tf.Variable(\n",
    "            tf.random_normal([imagesize, n_hidden1],\n",
    "                             stddev=0.1\n",
    "#                                 stddev=1.0 / (float(imagesize) ** 0.5)\n",
    "                               ), \n",
    "                                name='weights_1'\n",
    "        )\n",
    "        biases_1 = tf.Variable(\n",
    "            tf.zeros([n_hidden1]), name='biases_1'\n",
    "        )\n",
    "        hidden_1 = tf.nn.relu(tf.matmul(image_data, weights_1) + biases_1, name='hidden_1')\n",
    "    \n",
    "    # hidden_2\n",
    "    with tf.name_scope('hidden_2'):\n",
    "        weights_2 = tf.Variable(\n",
    "            tf.random_normal([n_hidden1, n_hidden2],\n",
    "                             stddev=0.1\n",
    "#                                 stddev=1.0 / (float(n_hidden1) ** 0.5)\n",
    "                               ), \n",
    "                                name='weights_2'\n",
    "        )\n",
    "        biases_2 = tf.Variable(\n",
    "            tf.zeros([n_hidden2]), name='biases_2'\n",
    "        )\n",
    "        hidden_2 = tf.nn.relu(tf.matmul(hidden_1, weights_2) + biases_2, name='hidden_2')\n",
    "    \n",
    "    # softmax\n",
    "    with tf.name_scope('softmax'):\n",
    "        weights_3 = tf.Variable(\n",
    "            tf.random_normal([n_hidden2, n_class],\n",
    "                             stddev=0.1\n",
    "#                                 stddev=1.0 / (float(n_hidden2) ** 0.5)\n",
    "                               ), \n",
    "                                name='weights_3'\n",
    "        )\n",
    "        biases_3 = tf.Variable(\n",
    "            tf.zeros([n_class]), name='biases_3'\n",
    "        )\n",
    "        logits = tf.matmul(hidden_2, weights_3) + biases_3\n",
    "    \n",
    "    return logits\n",
    "\n",
    "\n",
    "def mnist_train(logits, label_data, learning_rate=0.05):\n",
    "    \n",
    "    # build losses\n",
    "    loss = tf.reduce_mean(\n",
    "        tf.nn.softmax_cross_entropy_with_logits(labels=label_data, logits=logits),\n",
    "        name='loss'\n",
    "    )\n",
    "    optimizer = tf.train.GradientDescentOptimizer(learning_rate)\n",
    "    train_op = optimizer.minimize(loss)\n",
    "    return train_op, loss\n",
    "\n"
   ]
  },
  {
   "cell_type": "code",
   "execution_count": 28,
   "metadata": {
    "collapsed": false
   },
   "outputs": [
    {
     "name": "stdout",
     "output_type": "stream",
     "text": [
      "Iteration 0, loss 2.33215117455\n",
      "Iteration 100, loss 2.13833546638\n",
      "Iteration 200, loss 1.90809810162\n",
      "Iteration 300, loss 1.65865051746\n",
      "Iteration 400, loss 1.34074556828\n",
      "Iteration 500, loss 1.01878893375\n",
      "Iteration 600, loss 0.856269836426\n",
      "Iteration 700, loss 0.614788115025\n",
      "Iteration 800, loss 0.679994821548\n",
      "Iteration 900, loss 0.470681101084\n",
      "Iteration 1000, loss 0.512620449066\n",
      "Iteration 1100, loss 0.560837328434\n",
      "Iteration 1200, loss 0.470821142197\n",
      "Iteration 1300, loss 0.498990774155\n",
      "Iteration 1400, loss 0.386881947517\n",
      "Iteration 1500, loss 0.329097896814\n",
      "Iteration 1600, loss 0.326312363148\n",
      "Iteration 1700, loss 0.445974588394\n",
      "Iteration 1800, loss 0.388069987297\n",
      "Iteration 1900, loss 0.354270130396\n"
     ]
    }
   ],
   "source": [
    "tf.reset_default_graph()\n",
    "    \n",
    "# run training op\n",
    "image_placeholder = tf.placeholder(tf.float32, shape=(None, imagesize), name='image_placeholder')\n",
    "label_placeholder = tf.placeholder(tf.int32, shape=(None, 10), name='label_placeholder')\n",
    "logits = mnist_inference(image_placeholder)\n",
    "\n",
    "tf.add_to_collection(\"images\", image_placeholder)  # Remember this Op.\n",
    "tf.add_to_collection(\"labels\", label_placeholder)  # Remember this Op.\n",
    "tf.add_to_collection(\"logits\", logits)  # Remember this Op.\n",
    "\n",
    "train_op, loss = mnist_train(logits, label_placeholder, learning_rate=0.01)\n",
    "init_op = tf.global_variables_initializer()\n",
    "saver = tf.train.Saver()\n",
    "\n",
    "losses = []\n",
    "\n",
    "with tf.Session() as sess:\n",
    "    sess.run(init_op)\n",
    "    \n",
    "    for i_train in xrange(n_max_train):\n",
    "        image_feed, label_feed = datasets.train.next_batch(n_batch)\n",
    "#         image_feed_tensor, label_feed_tensor = tf.train.batch([datasets.train._images, datasets.train._labels],\n",
    "#                                                 batch_size=n_batch,\n",
    "#                                                 enqueue_many=True)\n",
    "#         image_feed, label_feed = sess.run([image_feed_tensor, label_feed_tensor])\n",
    "    \n",
    "        _, t_loss = sess.run([train_op, loss], \n",
    "                             feed_dict={image_placeholder:image_feed,\n",
    "                                       label_placeholder:label_feed})\n",
    "        losses.append(t_loss)\n",
    "\n",
    "        if i_train % 100 == 0:\n",
    "            print('Iteration {}, loss {}'.format(i_train, t_loss))\n",
    "        if i_train % 600 == 0:\n",
    "            # Write a checkpoint.\n",
    "            checkpoint_file = os.path.join(TRAIN_DIR, 'checkpoint_{:d}.ckpt'.format(i_train))\n",
    "            saver.save(sess, checkpoint_file)\n"
   ]
  },
  {
   "cell_type": "code",
   "execution_count": 30,
   "metadata": {
    "collapsed": false
   },
   "outputs": [
    {
     "data": {
      "text/plain": [
       "[<matplotlib.lines.Line2D at 0x111577250>]"
      ]
     },
     "execution_count": 30,
     "metadata": {},
     "output_type": "execute_result"
    },
    {
     "data": {
      "image/png": "[encoded data removed]",
      "text/plain": [
       "<matplotlib.figure.Figure at 0x111d8f190>"
      ]
     },
     "metadata": {},
     "output_type": "display_data"
    }
   ],
   "source": [
    "plt.plot(losses, '.')\n",
    "# plt.ylim([0, 10])"
   ]
  },
  {
   "cell_type": "code",
   "execution_count": 10,
   "metadata": {
    "collapsed": false
   },
   "outputs": [
    {
     "name": "stdout",
     "output_type": "stream",
     "text": [
      "Ground truth: 2\n",
      "Prediction: 2\n"
     ]
    },
    {
     "data": {
      "image/png": "[encoded data removed]",
      "text/plain": [
       "<matplotlib.figure.Figure at 0x11cf98410>"
      ]
     },
     "metadata": {},
     "output_type": "display_data"
    }
   ],
   "source": [
    "# new_graph = tf.Graph()\n",
    "# with tf.Session(graph=new_graph) as sess:\n",
    "with tf.Session() as sess:\n",
    "    saver = tf.train.import_meta_graph(\n",
    "        os.path.join(TRAIN_DIR, \"checkpoint_1800.ckpt.meta\"))\n",
    "    saver.restore(\n",
    "        sess, os.path.join(TRAIN_DIR, \"checkpoint_1800.ckpt\"))\n",
    "\n",
    "    # Retrieve the Ops we 'remembered'.\n",
    "    logits = tf.get_collection(\"logits\")[0]\n",
    "    image_placeholder = tf.get_collection(\"images\")[0]\n",
    "    label_placeholder = tf.get_collection(\"labels\")[0]\n",
    "\n",
    "    # Add an Op that chooses the top k predictions.\n",
    "    eval_op = tf.nn.top_k(logits)\n",
    "    \n",
    "    # Run evaluation.\n",
    "    images_feed, labels_feed = datasets.validation.next_batch(1)\n",
    "    imgplot = plt.imshow(np.reshape(images_feed, (28, 28)))\n",
    "    prediction = sess.run(eval_op,\n",
    "                          feed_dict={image_placeholder: images_feed,\n",
    "                                     label_placeholder: labels_feed})\n",
    "    print(\"Ground truth: {}\\nPrediction: {}\".format(\n",
    "            np.argmax(labels_feed), prediction.indices[0][0]))"
   ]
  },
  {
   "cell_type": "code",
   "execution_count": 34,
   "metadata": {
    "collapsed": false
   },
   "outputs": [
    {
     "data": {
      "text/plain": [
       "array([[5]], dtype=int32)"
      ]
     },
     "execution_count": 34,
     "metadata": {},
     "output_type": "execute_result"
    }
   ],
   "source": [
    "prediction.indices"
   ]
  },
  {
   "cell_type": "code",
   "execution_count": 72,
   "metadata": {
    "collapsed": false
   },
   "outputs": [],
   "source": [
    "tf.reset_default_graph()"
   ]
  },
  {
   "cell_type": "markdown",
   "metadata": {},
   "source": [
    "### Questions：\n",
    "\n",
    "1. Why do we have to normalize the stddev parameter during intitialization?\n",
    "2. What does `import_meta_graph` and `restore` do?\n",
    "3. What does `add_to_collection` and `get_collection` do?\n",
    "\n",
    "### Tips:\n",
    "- Remember to use `tf.reset_default_graph()` before training"
   ]
  },
  {
   "cell_type": "code",
   "execution_count": null,
   "metadata": {
    "collapsed": true
   },
   "outputs": [],
   "source": []
  },
  {
   "cell_type": "code",
   "execution_count": null,
   "metadata": {
    "collapsed": true
   },
   "outputs": [],
   "source": []
  },
  {
   "cell_type": "code",
   "execution_count": null,
   "metadata": {
    "collapsed": true
   },
   "outputs": [],
   "source": []
  },
  {
   "cell_type": "code",
   "execution_count": null,
   "metadata": {
    "collapsed": true
   },
   "outputs": [],
   "source": []
  },
  {
   "cell_type": "markdown",
   "metadata": {},
   "source": [
    "# Save and restore graph"
   ]
  },
  {
   "cell_type": "code",
   "execution_count": 44,
   "metadata": {
    "collapsed": false
   },
   "outputs": [
    {
     "name": "stdout",
     "output_type": "stream",
     "text": [
      "[-1.0, -1.0, -1.0, array([ 42.        ,  42.09999847,  42.29999924], dtype=float32), array([[ 1.,  2.],\n",
      "       [ 3.,  4.]], dtype=float32), array([-1, -2], dtype=int32)]\n",
      "[-1.0, -1.0]\n",
      "[-1.0, -1.0, -1.0, array([ 42.        ,  42.09999847,  42.29999924], dtype=float32), array([[ 1.,  2.],\n",
      "       [ 3.,  4.]], dtype=float32), array([-1, -2], dtype=int32)]\n"
     ]
    }
   ],
   "source": [
    "import tensorflow as tf\n",
    "\n",
    "def save(checkpoint_file='/tmp/mnist/hello.chk'):\n",
    "    with tf.Session() as session:\n",
    "        x = tf.Variable([42.0, 42.1, 42.3], name='x')\n",
    "        y = tf.Variable([[1.0, 2.0], [3.0, 4.0]], name='y')\n",
    "        not_saved = tf.Variable([-1, -2], name='not_saved')\n",
    "        session.run(tf.global_variables_initializer())\n",
    "\n",
    "        print(session.run(tf.global_variables()))\n",
    "#         saver = tf.train.Saver([x, y])\n",
    "        saver = tf.train.Saver()\n",
    "        saver.save(session, checkpoint_file)\n",
    "\n",
    "def restore(checkpoint_file='/tmp/mnist/hello.chk'):\n",
    "    # have to rebuild \n",
    "    x = tf.Variable(-1.0, validate_shape=False, name='x')\n",
    "    y = tf.Variable(-1.0, validate_shape=False, name='y')\n",
    "    \n",
    "    with tf.Session() as session:\n",
    "        saver = tf.train.Saver()\n",
    "        saver.restore(session, checkpoint_file)\n",
    "        print(session.run(tf.global_variables()))\n",
    "\n",
    "def restore2(checkpoint_file='/tmp/mnist/hello.chk'):\n",
    "    with tf.Session() as session:\n",
    "        saver = tf.train.import_meta_graph(checkpoint_file + \".meta\")\n",
    "        saver.restore(session, checkpoint_file)\n",
    "        session.run(tf.global_variables_initializer()) #needed\n",
    "        print(session.run(tf.global_variables()))\n",
    "\n",
    "        \n",
    "def reset():\n",
    "    tf.reset_default_graph()\n",
    "    \n",
    "save() # saves [x, y, not_saved]\n",
    "reset()\n",
    "restore() # loads [x, y]\n",
    "reset()\n",
    "restore2() # loads [x, y, not_saved]"
   ]
  },
  {
   "cell_type": "code",
   "execution_count": 51,
   "metadata": {
    "collapsed": false
   },
   "outputs": [
    {
     "data": {
      "text/plain": [
       "node {\n",
       "  name: \"Const\"\n",
       "  op: \"Const\"\n",
       "  attr {\n",
       "    key: \"dtype\"\n",
       "    value {\n",
       "      type: DT_STRING\n",
       "    }\n",
       "  }\n",
       "  attr {\n",
       "    key: \"value\"\n",
       "    value {\n",
       "      tensor {\n",
       "        dtype: DT_STRING\n",
       "        tensor_shape {\n",
       "        }\n",
       "        string_val: \"hello\"\n",
       "      }\n",
       "    }\n",
       "  }\n",
       "}\n",
       "versions {\n",
       "  producer: 21\n",
       "}"
      ]
     },
     "execution_count": 51,
     "metadata": {},
     "output_type": "execute_result"
    }
   ],
   "source": [
    "tf.get_default_graph().as_graph_def()"
   ]
  },
  {
   "cell_type": "code",
   "execution_count": 36,
   "metadata": {
    "collapsed": true
   },
   "outputs": [],
   "source": [
    "tf.reset_default_graph()"
   ]
  },
  {
   "cell_type": "code",
   "execution_count": 34,
   "metadata": {
    "collapsed": false
   },
   "outputs": [
    {
     "data": {
      "text/plain": [
       "[<tf.Tensor 'x:0' shape=(3,) dtype=float32_ref>,\n",
       " <tf.Tensor 'y:0' shape=(2, 2) dtype=float32_ref>,\n",
       " <tf.Tensor 'not_saved:0' shape=(2,) dtype=int32_ref>]"
      ]
     },
     "execution_count": 34,
     "metadata": {},
     "output_type": "execute_result"
    }
   ],
   "source": [
    "[x._variable for x in tf.global_variables()]"
   ]
  },
  {
   "cell_type": "markdown",
   "metadata": {},
   "source": [
    "# Visualize graph in iPython notbook\n"
   ]
  },
  {
   "cell_type": "code",
   "execution_count": 13,
   "metadata": {
    "collapsed": false
   },
   "outputs": [],
   "source": [
    "import numpy as np\n",
    "from IPython.display import clear_output, Image, display, HTML\n",
    "\n",
    "def strip_consts(graph_def, max_const_size=32):\n",
    "    \"\"\"Strip large constant values from graph_def.\"\"\"\n",
    "    strip_def = tf.GraphDef()\n",
    "    for n0 in graph_def.node:\n",
    "        n = strip_def.node.add() \n",
    "        n.MergeFrom(n0)\n",
    "        if n.op == 'Const':\n",
    "            tensor = n.attr['value'].tensor\n",
    "            size = len(tensor.tensor_content)\n",
    "            if size > max_const_size:\n",
    "                tensor.tensor_content = \"<stripped %d bytes>\"%size\n",
    "    return strip_def\n",
    "\n",
    "def show_graph(graph_def, max_const_size=32):\n",
    "    \"\"\"Visualize TensorFlow graph.\"\"\"\n",
    "    if hasattr(graph_def, 'as_graph_def'):\n",
    "        graph_def = graph_def.as_graph_def()\n",
    "    strip_def = strip_consts(graph_def, max_const_size=max_const_size)\n",
    "    code = \"\"\"\n",
    "        <script>\n",
    "          function load() {{\n",
    "            document.getElementById(\"{id}\").pbtxt = {data};\n",
    "          }}\n",
    "        </script>\n",
    "        <link rel=\"import\" href=\"https://tensorboard.appspot.com/tf-graph-basic.build.html\" onload=load()>\n",
    "        <div style=\"height:600px\">\n",
    "          <tf-graph-basic id=\"{id}\"></tf-graph-basic>\n",
    "        </div>\n",
    "    \"\"\".format(data=repr(str(strip_def)), id='graph'+str(np.random.rand()))\n",
    "\n",
    "    iframe = \"\"\"\n",
    "        <iframe seamless style=\"width:1200px;height:620px;border:0\" srcdoc=\"{}\"></iframe>\n",
    "    \"\"\".format(code.replace('\"', '&quot;'))\n",
    "    display(HTML(iframe))\n",
    "    \n"
   ]
  },
  {
   "cell_type": "code",
   "execution_count": 14,
   "metadata": {
    "collapsed": false,
    "scrolled": false
   },
   "outputs": [
    {
     "data": {
      "text/html": [
       "\n",
       "        <iframe seamless style=\"width:1200px;height:620px;border:0\" srcdoc=\"\n",
       "        <script>\n",
       "          function load() {\n",
       "            document.getElementById(&quot;graph0.347258125582&quot;).pbtxt = 'node {\\n  name: &quot;MyOperationGroup/Scope_A/Add_these_numbers/x&quot;\\n  op: &quot;Const&quot;\\n  attr {\\n    key: &quot;dtype&quot;\\n    value {\\n      type: DT_INT32\\n    }\\n  }\\n  attr {\\n    key: &quot;value&quot;\\n    value {\\n      tensor {\\n        dtype: DT_INT32\\n        tensor_shape {\\n        }\\n        int_val: 1\\n      }\\n    }\\n  }\\n}\\nnode {\\n  name: &quot;MyOperationGroup/Scope_A/Add_these_numbers/y&quot;\\n  op: &quot;Const&quot;\\n  attr {\\n    key: &quot;dtype&quot;\\n    value {\\n      type: DT_INT32\\n    }\\n  }\\n  attr {\\n    key: &quot;value&quot;\\n    value {\\n      tensor {\\n        dtype: DT_INT32\\n        tensor_shape {\\n        }\\n        int_val: 2\\n      }\\n    }\\n  }\\n}\\nnode {\\n  name: &quot;MyOperationGroup/Scope_A/Add_these_numbers&quot;\\n  op: &quot;Add&quot;\\n  input: &quot;MyOperationGroup/Scope_A/Add_these_numbers/x&quot;\\n  input: &quot;MyOperationGroup/Scope_A/Add_these_numbers/y&quot;\\n  attr {\\n    key: &quot;T&quot;\\n    value {\\n      type: DT_INT32\\n    }\\n  }\\n}\\nnode {\\n  name: &quot;MyOperationGroup/Scope_A/Mul/y&quot;\\n  op: &quot;Const&quot;\\n  attr {\\n    key: &quot;dtype&quot;\\n    value {\\n      type: DT_INT32\\n    }\\n  }\\n  attr {\\n    key: &quot;value&quot;\\n    value {\\n      tensor {\\n        dtype: DT_INT32\\n        tensor_shape {\\n        }\\n        int_val: 3\\n      }\\n    }\\n  }\\n}\\nnode {\\n  name: &quot;MyOperationGroup/Scope_A/Mul&quot;\\n  op: &quot;Mul&quot;\\n  input: &quot;MyOperationGroup/Scope_A/Add_these_numbers&quot;\\n  input: &quot;MyOperationGroup/Scope_A/Mul/y&quot;\\n  attr {\\n    key: &quot;T&quot;\\n    value {\\n      type: DT_INT32\\n    }\\n  }\\n}\\nnode {\\n  name: &quot;MyOperationGroup/Scope_B/And_These_ones/x&quot;\\n  op: &quot;Const&quot;\\n  attr {\\n    key: &quot;dtype&quot;\\n    value {\\n      type: DT_INT32\\n    }\\n  }\\n  attr {\\n    key: &quot;value&quot;\\n    value {\\n      tensor {\\n        dtype: DT_INT32\\n        tensor_shape {\\n        }\\n        int_val: 4\\n      }\\n    }\\n  }\\n}\\nnode {\\n  name: &quot;MyOperationGroup/Scope_B/And_These_ones/y&quot;\\n  op: &quot;Const&quot;\\n  attr {\\n    key: &quot;dtype&quot;\\n    value {\\n      type: DT_INT32\\n    }\\n  }\\n  attr {\\n    key: &quot;value&quot;\\n    value {\\n      tensor {\\n        dtype: DT_INT32\\n        tensor_shape {\\n        }\\n        int_val: 5\\n      }\\n    }\\n  }\\n}\\nnode {\\n  name: &quot;MyOperationGroup/Scope_B/And_These_ones&quot;\\n  op: &quot;Add&quot;\\n  input: &quot;MyOperationGroup/Scope_B/And_These_ones/x&quot;\\n  input: &quot;MyOperationGroup/Scope_B/And_These_ones/y&quot;\\n  attr {\\n    key: &quot;T&quot;\\n    value {\\n      type: DT_INT32\\n    }\\n  }\\n}\\nnode {\\n  name: &quot;MyOperationGroup/Scope_B/Multiply_these_numbers/y&quot;\\n  op: &quot;Const&quot;\\n  attr {\\n    key: &quot;dtype&quot;\\n    value {\\n      type: DT_INT32\\n    }\\n  }\\n  attr {\\n    key: &quot;value&quot;\\n    value {\\n      tensor {\\n        dtype: DT_INT32\\n        tensor_shape {\\n        }\\n        int_val: 6\\n      }\\n    }\\n  }\\n}\\nnode {\\n  name: &quot;MyOperationGroup/Scope_B/Multiply_these_numbers&quot;\\n  op: &quot;Mul&quot;\\n  input: &quot;MyOperationGroup/Scope_B/And_These_ones&quot;\\n  input: &quot;MyOperationGroup/Scope_B/Multiply_these_numbers/y&quot;\\n  attr {\\n    key: &quot;T&quot;\\n    value {\\n      type: DT_INT32\\n    }\\n  }\\n}\\nnode {\\n  name: &quot;Scope_C/B_add/x&quot;\\n  op: &quot;Const&quot;\\n  attr {\\n    key: &quot;dtype&quot;\\n    value {\\n      type: DT_INT32\\n    }\\n  }\\n  attr {\\n    key: &quot;value&quot;\\n    value {\\n      tensor {\\n        dtype: DT_INT32\\n        tensor_shape {\\n        }\\n        int_val: 4\\n      }\\n    }\\n  }\\n}\\nnode {\\n  name: &quot;Scope_C/B_add/y&quot;\\n  op: &quot;Const&quot;\\n  attr {\\n    key: &quot;dtype&quot;\\n    value {\\n      type: DT_INT32\\n    }\\n  }\\n  attr {\\n    key: &quot;value&quot;\\n    value {\\n      tensor {\\n        dtype: DT_INT32\\n        tensor_shape {\\n        }\\n        int_val: 5\\n      }\\n    }\\n  }\\n}\\nnode {\\n  name: &quot;Scope_C/B_add&quot;\\n  op: &quot;Mul&quot;\\n  input: &quot;Scope_C/B_add/x&quot;\\n  input: &quot;Scope_C/B_add/y&quot;\\n  attr {\\n    key: &quot;T&quot;\\n    value {\\n      type: DT_INT32\\n    }\\n  }\\n}\\nnode {\\n  name: &quot;Scope_C/B_mul/y&quot;\\n  op: &quot;Const&quot;\\n  attr {\\n    key: &quot;dtype&quot;\\n    value {\\n      type: DT_INT32\\n    }\\n  }\\n  attr {\\n    key: &quot;value&quot;\\n    value {\\n      tensor {\\n        dtype: DT_INT32\\n        tensor_shape {\\n        }\\n        int_val: 6\\n      }\\n    }\\n  }\\n}\\nnode {\\n  name: &quot;Scope_C/B_mul&quot;\\n  op: &quot;FloorDiv&quot;\\n  input: &quot;MyOperationGroup/Scope_B/And_These_ones&quot;\\n  input: &quot;Scope_C/B_mul/y&quot;\\n  attr {\\n    key: &quot;T&quot;\\n    value {\\n      type: DT_INT32\\n    }\\n  }\\n}\\nnode {\\n  name: &quot;Add&quot;\\n  op: &quot;Add&quot;\\n  input: &quot;MyOperationGroup/Scope_A/Mul&quot;\\n  input: &quot;MyOperationGroup/Scope_B/Multiply_these_numbers&quot;\\n  attr {\\n    key: &quot;T&quot;\\n    value {\\n      type: DT_INT32\\n    }\\n  }\\n}\\nnode {\\n  name: &quot;Mul&quot;\\n  op: &quot;Mul&quot;\\n  input: &quot;Add&quot;\\n  input: &quot;Scope_C/B_mul&quot;\\n  attr {\\n    key: &quot;T&quot;\\n    value {\\n      type: DT_INT32\\n    }\\n  }\\n}\\n';\n",
       "          }\n",
       "        </script>\n",
       "        <link rel=&quot;import&quot; href=&quot;https://tensorboard.appspot.com/tf-graph-basic.build.html&quot; onload=load()>\n",
       "        <div style=&quot;height:600px&quot;>\n",
       "          <tf-graph-basic id=&quot;graph0.347258125582&quot;></tf-graph-basic>\n",
       "        </div>\n",
       "    \"></iframe>\n",
       "    "
      ],
      "text/plain": [
       "<IPython.core.display.HTML object>"
      ]
     },
     "metadata": {},
     "output_type": "display_data"
    }
   ],
   "source": [
    "show_graph(tf.get_default_graph().as_graph_def())"
   ]
  },
  {
   "cell_type": "code",
   "execution_count": 1,
   "metadata": {
    "collapsed": false
   },
   "outputs": [
    {
     "name": "stdout",
     "output_type": "stream",
     "text": [
      "[ 1.21977031 -0.26441696  0.65547514 -0.1417807   0.57003534 -0.16676159\n",
      " -0.84863162  1.91303158  0.60043257 -0.62450415]\n"
     ]
    }
   ],
   "source": [
    "\n",
    "import tensorflow as tf\n",
    "tf.reset_default_graph()\n",
    "w1 = tf.Variable(tf.truncated_normal([10]), name='w1')\n",
    "tf.add_to_collection('weights', w1)\n",
    "saver = tf.train.Saver()\n",
    "\n",
    "# save graph\n",
    "with tf.Session() as sess:\n",
    "    sess.run(tf.global_variables_initializer())\n",
    "    saver.save(sess, r'/tmp/mnist/mymodel', global_step=10)\n",
    "\n",
    "\n"
   ]
  },
  {
   "cell_type": "code",
   "execution_count": 1,
   "metadata": {
    "collapsed": false
   },
   "outputs": [
    {
     "name": "stdout",
     "output_type": "stream",
     "text": [
      "[ 1.21977031 -0.26441696  0.65547514 -0.1417807   0.57003534 -0.16676159\n",
      " -0.84863162  1.91303158  0.60043257 -0.62450415]\n"
     ]
    }
   ],
   "source": [
    "\n",
    "import tensorflow as tf\n",
    "# load graph\n",
    "with tf.Session() as sess:\n",
    "    new_saver = tf.train.import_meta_graph(r'/tmp/mnist/mymodel-10.meta')\n",
    "    new_saver.restore(sess,r'/tmp/mnist/mymodel-10')\n",
    "    new_weights = tf.get_collection('weights')[0]\n",
    "    print(sess.run(new_weights))"
   ]
  },
  {
   "cell_type": "code",
   "execution_count": null,
   "metadata": {
    "collapsed": true
   },
   "outputs": [],
   "source": []
  }
 ],
 "metadata": {
  "kernelspec": {
   "display_name": "Python 2",
   "language": "python",
   "name": "python2"
  },
  "language_info": {
   "codemirror_mode": {
    "name": "ipython",
    "version": 2
   },
   "file_extension": ".py",
   "mimetype": "text/x-python",
   "name": "python",
   "nbconvert_exporter": "python",
   "pygments_lexer": "ipython2",
   "version": "2.7.10"
  }
 },
 "nbformat": 4,
 "nbformat_minor": 1
}
