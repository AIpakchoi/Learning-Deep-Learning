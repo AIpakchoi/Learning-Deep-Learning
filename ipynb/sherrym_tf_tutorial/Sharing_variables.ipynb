{
 "cells": [
  {
   "cell_type": "code",
   "execution_count": 2,
   "metadata": {
    "collapsed": false
   },
   "outputs": [],
   "source": [
    "import tensorflow as tf\n",
    "from tensorflow.python.client import device_lib\n",
    "device_lib.list_local_devices()\n",
    "import numpy as np"
   ]
  },
  {
   "cell_type": "markdown",
   "metadata": {},
   "source": [
    "# No variable sharing\n",
    "This would cause duplicated variables."
   ]
  },
  {
   "cell_type": "code",
   "execution_count": 36,
   "metadata": {
    "collapsed": false
   },
   "outputs": [],
   "source": [
    "image1 = np.random.random([100, 10, 10, 3]).astype(np.float32)\n",
    "def inference(image):\n",
    "    # conv1\n",
    "    conv1_weights = tf.Variable(tf.truncated_normal([2, 2, 3, 5]),\n",
    "                               name='conv1_weights')\n",
    "    conv1_biases = tf.Variable(tf.zeros([5]),\n",
    "                              name='conv1_biases')\n",
    "    conv1 = tf.nn.conv2d(image, conv1_weights, strides=[1, 1, 1, 1], padding='SAME')\n",
    "    relu1 = tf.nn.relu(conv1 + conv1_biases)\n",
    "    print(relu1.get_shape())\n",
    "    \n",
    "    # conv2\n",
    "    conv2_weights = tf.Variable(tf.truncated_normal([2, 2, 5, 6]),\n",
    "                               name='conv2_weights')\n",
    "    conv2_biases = tf.Variable(tf.zeros([6]),\n",
    "                              name='conv2_biases')\n",
    "    conv2 = tf.nn.conv2d(relu1, conv2_weights, strides=[1, 1, 1, 1], padding='SAME')\n",
    "    relu2 = tf.nn.relu(conv2 + conv2_biases)\n",
    "    print(relu2.get_shape())\n",
    "    return relu2"
   ]
  },
  {
   "cell_type": "code",
   "execution_count": 51,
   "metadata": {
    "collapsed": false
   },
   "outputs": [
    {
     "name": "stdout",
     "output_type": "stream",
     "text": [
      "(100, 10, 10, 5)\n",
      "(100, 10, 10, 6)\n",
      "(100, 10, 10, 5)\n",
      "(100, 10, 10, 6)\n"
     ]
    },
    {
     "data": {
      "text/plain": [
       "[<tf.Tensor 'conv1_weights:0' shape=(2, 2, 3, 5) dtype=float32_ref>,\n",
       " <tf.Tensor 'conv1_biases:0' shape=(5,) dtype=float32_ref>,\n",
       " <tf.Tensor 'conv2_weights:0' shape=(2, 2, 5, 6) dtype=float32_ref>,\n",
       " <tf.Tensor 'conv2_biases:0' shape=(6,) dtype=float32_ref>,\n",
       " <tf.Tensor 'conv1_weights_1:0' shape=(2, 2, 3, 5) dtype=float32_ref>,\n",
       " <tf.Tensor 'conv1_biases_1:0' shape=(5,) dtype=float32_ref>,\n",
       " <tf.Tensor 'conv2_weights_1:0' shape=(2, 2, 5, 6) dtype=float32_ref>,\n",
       " <tf.Tensor 'conv2_biases_1:0' shape=(6,) dtype=float32_ref>]"
      ]
     },
     "execution_count": 51,
     "metadata": {},
     "output_type": "execute_result"
    }
   ],
   "source": [
    "tf.reset_default_graph()\n",
    "inference(image1)\n",
    "inference(image1 + 2)\n",
    "[x._variable for x in tf.global_variables()]"
   ]
  },
  {
   "cell_type": "code",
   "execution_count": null,
   "metadata": {
    "collapsed": true
   },
   "outputs": [],
   "source": []
  },
  {
   "cell_type": "markdown",
   "metadata": {},
   "source": [
    "# Variable sharing through dictionary"
   ]
  },
  {
   "cell_type": "code",
   "execution_count": 43,
   "metadata": {
    "collapsed": false
   },
   "outputs": [],
   "source": [
    "variable_dict = {\n",
    "    'conv1_weights': tf.Variable(tf.truncated_normal([2, 2, 3, 5]),\n",
    "                               name='conv1_weights'),\n",
    "    'conv1_biases': tf.Variable(tf.zeros([5]),\n",
    "                              name='conv1_biases'),\n",
    "    'conv2_weights': tf.Variable(tf.truncated_normal([2, 2, 5, 6]),\n",
    "                               name='conv2_weights'),\n",
    "    'conv2_biases': tf.Variable(tf.zeros([6]),\n",
    "                              name='conv12biases')\n",
    "    }\n",
    "def inference_with_dict(image):\n",
    "    conv1 = tf.nn.conv2d(image, variable_dict['conv1_weights'], strides=[1, 1, 1, 1], padding='SAME')\n",
    "    relu1 = tf.nn.relu(conv1 + variable_dict['conv1_biases'])\n",
    "    print(relu1.get_shape())\n",
    "\n",
    "    conv2 = tf.nn.conv2d(relu1, variable_dict['conv2_weights'], strides=[1, 1, 1, 1], padding='SAME')\n",
    "    relu2 = tf.nn.relu(conv2 + variable_dict['conv2_biases'])\n",
    "    print(relu2.get_shape())\n",
    "    return relu2"
   ]
  },
  {
   "cell_type": "code",
   "execution_count": 58,
   "metadata": {
    "collapsed": false
   },
   "outputs": [
    {
     "name": "stdout",
     "output_type": "stream",
     "text": [
      "(100, 10, 10, 5)\n",
      "(100, 10, 10, 6)\n",
      "(100, 10, 10, 5)\n",
      "(100, 10, 10, 6)\n"
     ]
    },
    {
     "data": {
      "text/plain": [
       "{'conv1_biases': <tensorflow.python.ops.variables.Variable at 0x10cbd9150>,\n",
       " 'conv1_weights': <tensorflow.python.ops.variables.Variable at 0x10cbd90d0>,\n",
       " 'conv2_biases': <tensorflow.python.ops.variables.Variable at 0x10cc02dd0>,\n",
       " 'conv2_weights': <tensorflow.python.ops.variables.Variable at 0x10cbf6b10>}"
      ]
     },
     "execution_count": 58,
     "metadata": {},
     "output_type": "execute_result"
    }
   ],
   "source": [
    "tf.reset_default_graph()\n",
    "inference_with_dict(image1)\n",
    "inference_with_dict(image1 + 2)\n",
    "[x._variable for x in tf.global_variables()]\n",
    "variable_dict"
   ]
  },
  {
   "cell_type": "markdown",
   "metadata": {},
   "source": [
    "# This breaks encapsulation. Try `get_variable()`!"
   ]
  },
  {
   "cell_type": "code",
   "execution_count": 92,
   "metadata": {
    "collapsed": false
   },
   "outputs": [],
   "source": [
    "def get_relu(image, kernel_shape, bias_shape):\n",
    "    weights = tf.get_variable('weights', kernel_shape,\n",
    "                          initializer=tf.random_normal_initializer())\n",
    "    biases = tf.get_variable('biases', bias_shape,\n",
    "                          initializer=tf.constant_initializer(0.0))\n",
    "\n",
    "    conv = tf.nn.conv2d(image, weights, strides=[1, 1, 1, 1], padding='SAME')\n",
    "    relu = tf.nn.relu(conv + biases)\n",
    "    return relu\n",
    "\n",
    "    \n",
    "def inference_with_get_var(image):\n",
    "    with tf.variable_scope('conv1'):\n",
    "        relu1 = get_relu(image, [2, 2, 3, 5], [5])\n",
    "        print(relu1.get_shape())\n",
    "    print('conv1 ===> conv2')\n",
    "    with tf.variable_scope('conv2'):\n",
    "        relu2 = get_relu(relu1, [2, 2, 5, 6], [6])\n",
    "        print(relu2.get_shape())\n",
    "    return relu2"
   ]
  },
  {
   "cell_type": "code",
   "execution_count": 93,
   "metadata": {
    "collapsed": false
   },
   "outputs": [
    {
     "name": "stdout",
     "output_type": "stream",
     "text": [
      "(100, 10, 10, 5)\n",
      "conv1 ===> conv2\n",
      "(100, 10, 10, 6)\n",
      "(100, 10, 10, 5)\n",
      "conv1 ===> conv2\n",
      "(100, 10, 10, 6)\n"
     ]
    },
    {
     "data": {
      "text/plain": [
       "[<tf.Tensor 'image1/conv1/weights:0' shape=(2, 2, 3, 5) dtype=float32_ref>,\n",
       " <tf.Tensor 'image1/conv1/biases:0' shape=(5,) dtype=float32_ref>,\n",
       " <tf.Tensor 'image1/conv2/weights:0' shape=(2, 2, 5, 6) dtype=float32_ref>,\n",
       " <tf.Tensor 'image1/conv2/biases:0' shape=(6,) dtype=float32_ref>,\n",
       " <tf.Tensor 'image2/conv1/weights:0' shape=(2, 2, 3, 5) dtype=float32_ref>,\n",
       " <tf.Tensor 'image2/conv1/biases:0' shape=(5,) dtype=float32_ref>,\n",
       " <tf.Tensor 'image2/conv2/weights:0' shape=(2, 2, 5, 6) dtype=float32_ref>,\n",
       " <tf.Tensor 'image2/conv2/biases:0' shape=(6,) dtype=float32_ref>]"
      ]
     },
     "execution_count": 93,
     "metadata": {},
     "output_type": "execute_result"
    }
   ],
   "source": [
    "tf.reset_default_graph()\n",
    "with tf.variable_scope('image1'):\n",
    "    inference_with_get_var(image1)\n",
    "#     tf.get_variable_scope().reuse_variables()\n",
    "with tf.variable_scope('image2'):\n",
    "    inference_with_get_var(image1 + 2)\n",
    "[x._variable for x in tf.global_variables()]"
   ]
  },
  {
   "cell_type": "code",
   "execution_count": 94,
   "metadata": {
    "collapsed": false
   },
   "outputs": [
    {
     "name": "stdout",
     "output_type": "stream",
     "text": [
      "(100, 10, 10, 5)\n",
      "conv1 ===> conv2\n",
      "(100, 10, 10, 6)\n",
      "(100, 10, 10, 5)\n",
      "conv1 ===> conv2\n",
      "(100, 10, 10, 6)\n"
     ]
    },
    {
     "data": {
      "text/plain": [
       "[<tf.Tensor 'image1/conv1/weights:0' shape=(2, 2, 3, 5) dtype=float32_ref>,\n",
       " <tf.Tensor 'image1/conv1/biases:0' shape=(5,) dtype=float32_ref>,\n",
       " <tf.Tensor 'image1/conv2/weights:0' shape=(2, 2, 5, 6) dtype=float32_ref>,\n",
       " <tf.Tensor 'image1/conv2/biases:0' shape=(6,) dtype=float32_ref>]"
      ]
     },
     "execution_count": 94,
     "metadata": {},
     "output_type": "execute_result"
    }
   ],
   "source": [
    "tf.reset_default_graph()\n",
    "with tf.variable_scope('image1') as scope:\n",
    "    inference_with_get_var(image1)\n",
    "    scope.reuse_variables()\n",
    "    assert scope == tf.get_variable_scope()\n",
    "    inference_with_get_var(image1 + 2)\n",
    "[x._variable for x in tf.global_variables()]"
   ]
  },
  {
   "cell_type": "code",
   "execution_count": null,
   "metadata": {
    "collapsed": true
   },
   "outputs": [],
   "source": []
  },
  {
   "cell_type": "code",
   "execution_count": null,
   "metadata": {
    "collapsed": true
   },
   "outputs": [],
   "source": []
  }
 ],
 "metadata": {
  "kernelspec": {
   "display_name": "Python 2",
   "language": "python",
   "name": "python2"
  },
  "language_info": {
   "codemirror_mode": {
    "name": "ipython",
    "version": 2
   },
   "file_extension": ".py",
   "mimetype": "text/x-python",
   "name": "python",
   "nbconvert_exporter": "python",
   "pygments_lexer": "ipython2",
   "version": "2.7.10"
  }
 },
 "nbformat": 4,
 "nbformat_minor": 0
}
