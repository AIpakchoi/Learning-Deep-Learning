{
 "cells": [
  {
   "cell_type": "markdown",
   "metadata": {},
   "source": [
    "# L1 Machine Learning to Deep Learning"
   ]
  },
  {
   "cell_type": "markdown",
   "metadata": {},
   "source": [
    "Deep learning is now a part of many branches of computer science, from perception to NLP to computer vision. It gives computer and data scientists a common language and even a common set of tools.\n",
    "\n",
    "Neural networks were fringe in 2000-2010. They only became popular again in recent years because of an increase in the volume of data and because cheap, fast GPUs increased computational power.\n",
    "\n",
    "\n",
    "## Classification\n",
    "Course will focus on problem of classification. Classification paves the way for regression, reinforcement learning, detection and ranking. See two examples below.\n",
    "\n",
    "Example 1: Detection: Self-driving car detecting pedestrians from an image\n",
    "* Use a binary pedestrian or no pedestrian classifier. Slide it over all possible locations in the image.\n",
    "\n",
    "Example 2: Web Search Ranking (not really a ranking problem)\n",
    "* Classifier takes a query-webpage pair and returns whether the page is relevant or not."
   ]
  },
  {
   "cell_type": "markdown",
   "metadata": {
    "collapsed": true
   },
   "source": [
    "## Logistic Classifier\n",
    "\n",
    "* A linear classifier. WX + b = Y\n",
    "* X: inputs\n",
    "* W: Weights (matrix)\n",
    "* b: bias\n",
    "\n",
    "Q: What is the result of 'training' this model?\n",
    "A: Finding the weights and biases that can make accurate predictions.\n",
    "\n",
    "Use a **softmax** function to turn scores into probabilites that sum to 1. These probabilities will be large when scores are large, and small when scores are small.\n",
    "* Each image can have precisely one label, so we want to convert the scores to probabilities an image has a particular label.\n",
    "\n",
    "Scores in logistical regression are also called **logits**."
   ]
  },
  {
   "cell_type": "code",
   "execution_count": 28,
   "metadata": {
    "collapsed": false
   },
   "outputs": [
    {
     "name": "stdout",
     "output_type": "stream",
     "text": [
      "[ 0.8360188   0.11314284  0.05083836]\n"
     ]
    },
    {
     "data": {
      "image/png": "[encoded data removed]",
      "text/plain": [
       "<matplotlib.figure.Figure at 0x103897f10>"
      ]
     },
     "metadata": {},
     "output_type": "display_data"
    }
   ],
   "source": [
    "\"\"\"Softmax: Turning scores into probabilities.\"\"\"\n",
    "\n",
    "scores =  [3.0, 1.0, 0.2]\n",
    "\n",
    "import numpy as np\n",
    "\n",
    "def softmax(x):\n",
    "    \"\"\"Compute softmax values for x.\"\"\"\n",
    "    return np.exp(x)/np.sum(np.exp(x), axis=0)\n",
    "\n",
    "# One row for each score and n columns, \n",
    "# where n is the number of samples.\n",
    "\n",
    "print(softmax(scores))\n",
    "\n",
    "# Plot softmax curves\n",
    "import matplotlib.pyplot as plt\n",
    "%matplotlib inline\n",
    "# x-coordinates of points to plot\n",
    "x = np.arange(-2.0, 6.0, 0.1)\n",
    "# Create three arrays: x and two arrays shaped like x, one with \n",
    "# entries that are all ones, one with entries that are all 0.2.\n",
    "# Stack arrays in sequence vertically (row-wise) with np.vstack.\n",
    "scores = np.vstack([x, np.ones_like(x), 0.2 *np.ones_like(x)])\n",
    "\n",
    "# .T is transpose\n",
    "plt.plot(x, softmax(scores/1).T, linewidth=2)\n",
    "# plt.label\n",
    "plt.show()"
   ]
  },
  {
   "cell_type": "code",
   "execution_count": 15,
   "metadata": {
    "collapsed": false,
    "scrolled": false
   },
   "outputs": [
    {
     "name": "stdout",
     "output_type": "stream",
     "text": [
      "[ 1.  1.  1.  1.  1.  1.  1.  1.  1.  1.  1.  1.  1.  1.  1.  1.  1.  1.\n",
      "  1.  1.  1.  1.  1.  1.  1.  1.  1.  1.  1.  1.  1.  1.  1.  1.  1.  1.\n",
      "  1.  1.  1.  1.  1.  1.  1.  1.  1.  1.  1.  1.  1.  1.  1.  1.  1.  1.\n",
      "  1.  1.  1.  1.  1.  1.  1.  1.  1.  1.  1.  1.  1.  1.  1.  1.  1.  1.\n",
      "  1.  1.  1.  1.  1.  1.  1.  1.]\n"
     ]
    }
   ],
   "source": [
    "\"\"\"Check that softmax probabilities sum to 1 for every value of x\"\"\"\n",
    "\n",
    "print(np.sum(softmax(scores), axis=0))"
   ]
  },
  {
   "cell_type": "code",
   "execution_count": 18,
   "metadata": {
    "collapsed": true
   },
   "outputs": [
    {
     "name": "stdout",
     "output_type": "stream",
     "text": [
      "[[  9.35448489e-14   2.54281263e-13   6.91208136e-13   1.87889852e-12\n",
      "    5.10737569e-12   1.38832865e-11   3.77386855e-11   1.02584383e-10\n",
      "    2.78853264e-10   7.58001761e-10   2.06046241e-09   5.60091751e-09\n",
      "    1.52248721e-08   4.13854922e-08   1.12497423e-07   3.05799643e-07\n",
      "    8.31249175e-07   2.25956630e-06   6.14211417e-06   1.66958211e-05\n",
      "    4.53826452e-05   1.23353201e-04   3.35237708e-04   9.10745952e-04\n",
      "    2.47179601e-03   6.69062149e-03   1.79802867e-02   4.74107229e-02\n",
      "    1.19167711e-01   2.68875482e-01   4.99916148e-01   7.30992629e-01\n",
      "    8.80761858e-01   9.52558972e-01   9.82007865e-01   9.93304919e-01\n",
      "    9.97526549e-01   9.99088643e-01   9.99664537e-01   9.99876564e-01\n",
      "    9.99954587e-01   9.99983293e-01   9.99993854e-01   9.99997739e-01\n",
      "    9.99999168e-01   9.99999694e-01   9.99999887e-01   9.99999959e-01\n",
      "    9.99999985e-01   9.99999994e-01   9.99999998e-01   9.99999999e-01\n",
      "    1.00000000e+00   1.00000000e+00   1.00000000e+00   1.00000000e+00\n",
      "    1.00000000e+00   1.00000000e+00   1.00000000e+00   1.00000000e+00\n",
      "    1.00000000e+00   1.00000000e+00   1.00000000e+00   1.00000000e+00\n",
      "    1.00000000e+00   1.00000000e+00   1.00000000e+00   1.00000000e+00\n",
      "    1.00000000e+00   1.00000000e+00   1.00000000e+00   1.00000000e+00\n",
      "    1.00000000e+00   1.00000000e+00   1.00000000e+00   1.00000000e+00\n",
      "    1.00000000e+00   1.00000000e+00   1.00000000e+00   1.00000000e+00]\n",
      " [  9.99664650e-01   9.99664650e-01   9.99664650e-01   9.99664650e-01\n",
      "    9.99664650e-01   9.99664650e-01   9.99664650e-01   9.99664650e-01\n",
      "    9.99664650e-01   9.99664649e-01   9.99664648e-01   9.99664644e-01\n",
      "    9.99664635e-01   9.99664608e-01   9.99664537e-01   9.99664344e-01\n",
      "    9.99663819e-01   9.99662391e-01   9.99658510e-01   9.99647960e-01\n",
      "    9.99619282e-01   9.99541338e-01   9.99329525e-01   9.98754209e-01\n",
      "    9.97193683e-01   9.92976272e-01   9.81690393e-01   9.52269826e-01\n",
      "    8.80536902e-01   7.30879336e-01   4.99916148e-01   2.68917160e-01\n",
      "    1.19198156e-01   4.74251187e-02   1.79861014e-02   6.69283590e-03\n",
      "    2.47262111e-03   9.11050916e-04   3.35350093e-04   1.23394571e-04\n",
      "    4.53978680e-05   1.67014218e-05   6.14417459e-06   2.26032430e-06\n",
      "    8.31528027e-07   3.05902227e-07   1.12535162e-07   4.13993755e-08\n",
      "    1.52299795e-08   5.60279641e-09   2.06115362e-09   7.58256042e-10\n",
      "    2.78946809e-10   1.02618796e-10   3.77513454e-11   1.38879439e-11\n",
      "    5.10908903e-12   1.87952882e-12   6.91440011e-13   2.54366565e-13\n",
      "    9.35762297e-14   3.44247711e-14   1.26641655e-14   4.65888615e-15\n",
      "    1.71390843e-15   6.30511676e-16   2.31952283e-16   8.53304763e-17\n",
      "    3.13913279e-17   1.15482242e-17   4.24835426e-18   1.56288219e-18\n",
      "    5.74952226e-19   2.11513104e-19   7.78113224e-20   2.86251858e-20\n",
      "    1.05306174e-20   3.87399763e-21   1.42516408e-21   5.24288566e-22]\n",
      " [  3.35350130e-04   3.35350130e-04   3.35350130e-04   3.35350130e-04\n",
      "    3.35350130e-04   3.35350130e-04   3.35350130e-04   3.35350130e-04\n",
      "    3.35350130e-04   3.35350130e-04   3.35350130e-04   3.35350129e-04\n",
      "    3.35350125e-04   3.35350117e-04   3.35350093e-04   3.35350028e-04\n",
      "    3.35349852e-04   3.35349373e-04   3.35348071e-04   3.35344532e-04\n",
      "    3.35334911e-04   3.35308764e-04   3.35237708e-04   3.35044712e-04\n",
      "    3.34521213e-04   3.33106430e-04   3.29320439e-04   3.19450938e-04\n",
      "    2.95387223e-04   2.45182703e-04   1.67703185e-04   9.02116571e-05\n",
      "    3.99865265e-05   1.59093549e-05   6.03366485e-06   2.24519632e-06\n",
      "    8.29471974e-07   3.05623534e-07   1.12497423e-07   4.13942670e-08\n",
      "    1.52292881e-08   5.60270283e-09   2.06114095e-09   7.58254328e-10\n",
      "    2.78946577e-10   1.02618765e-10   3.77513412e-11   1.38879433e-11\n",
      "    5.10908895e-12   1.87952881e-12   6.91440009e-13   2.54366565e-13\n",
      "    9.35762297e-14   3.44247711e-14   1.26641655e-14   4.65888615e-15\n",
      "    1.71390843e-15   6.30511676e-16   2.31952283e-16   8.53304763e-17\n",
      "    3.13913279e-17   1.15482242e-17   4.24835426e-18   1.56288219e-18\n",
      "    5.74952226e-19   2.11513104e-19   7.78113224e-20   2.86251858e-20\n",
      "    1.05306174e-20   3.87399763e-21   1.42516408e-21   5.24288566e-22\n",
      "    1.92874985e-22   7.09547416e-23   2.61027907e-23   9.60268005e-24\n",
      "    3.53262857e-24   1.29958143e-24   4.78089288e-25   1.75879220e-25]]\n",
      "[[ 0.27809175  0.28010376  0.28212465  0.28415436  0.28619285  0.28824007\n",
      "   0.29029598  0.29236054  0.29443368  0.29651537  0.29860555  0.30070416\n",
      "   0.30281115  0.30492647  0.30705006  0.30918186  0.31132181  0.31346985\n",
      "   0.31562592  0.31778995  0.31996189  0.32214165  0.32432919  0.32652443\n",
      "   0.32872729  0.33093772  0.33315563  0.33538095  0.33761361  0.33985354\n",
      "   0.34210065  0.34435487  0.34661611  0.34888431  0.35115937  0.35344121\n",
      "   0.35572975  0.3580249   0.36032658  0.3626347   0.36494917  0.3672699\n",
      "   0.36959679  0.37192976  0.37426872  0.37661357  0.3789642   0.38132054\n",
      "   0.38368248  0.38604991  0.38842275  0.39080089  0.39318423  0.39557266\n",
      "   0.39796609  0.40036441  0.40276751  0.40517529  0.40758764  0.41000445\n",
      "   0.41242562  0.41485103  0.41728058  0.41971414  0.42215162  0.4245929\n",
      "   0.42703786  0.42948639  0.43193838  0.4343937   0.43685226  0.43931391\n",
      "   0.44177856  0.44424608  0.44671635  0.44918926  0.45166468  0.45414249\n",
      "   0.45662258  0.45910482]\n",
      " [ 0.3753846   0.37433837  0.37328753  0.3722321   0.37117211  0.37010758\n",
      "   0.36903852  0.36796498  0.36688696  0.36580451  0.36471764  0.36362638\n",
      "   0.36253077  0.36143083  0.36032658  0.35921807  0.35810532  0.35698836\n",
      "   0.35586723  0.35474195  0.35361257  0.35247911  0.35134162  0.35020012\n",
      "   0.34905465  0.34790526  0.34675197  0.34559482  0.34443386  0.34326912\n",
      "   0.34210065  0.34092848  0.33975266  0.33857322  0.33739021  0.33620368\n",
      "   0.33501366  0.33382021  0.33262336  0.33142316  0.33021966  0.32901291\n",
      "   0.32780295  0.32658983  0.32537359  0.3241543   0.32293199  0.32170672\n",
      "   0.32047854  0.3192475   0.31801365  0.31677704  0.31553773  0.31429577\n",
      "   0.31305122  0.31180412  0.31055453  0.30930251  0.30804811  0.30679139\n",
      "   0.30553241  0.30427123  0.30300789  0.30174246  0.300475    0.29920556\n",
      "   0.29793421  0.29666099  0.29538599  0.29410924  0.29283082  0.29155079\n",
      "   0.2902692   0.28898611  0.2877016   0.28641572  0.28512852  0.28384009\n",
      "   0.28255047  0.28125973]\n",
      " [ 0.34652366  0.34555787  0.34458782  0.34361354  0.34263504  0.34165235\n",
      "   0.34066549  0.33967448  0.33867935  0.33768012  0.33667681  0.33566946\n",
      "   0.33465808  0.3336427   0.33262336  0.33160007  0.33057287  0.32954179\n",
      "   0.32850686  0.3274681   0.32642554  0.32537923  0.32432919  0.32327545\n",
      "   0.32221806  0.32115703  0.32009241  0.31902423  0.31795253  0.31687734\n",
      "   0.3157987   0.31471665  0.31363123  0.31254247  0.31145042  0.31035511\n",
      "   0.30925659  0.30815489  0.30705006  0.30594214  0.30483117  0.30371719\n",
      "   0.30260026  0.30148041  0.30035768  0.29923213  0.2981038   0.29697274\n",
      "   0.29583898  0.29470259  0.2935636   0.29242207  0.29127804  0.29013157\n",
      "   0.28898269  0.28783148  0.28667796  0.2855222   0.28436425  0.28320415\n",
      "   0.28204197  0.28087774  0.27971154  0.2785434   0.27737338  0.27620154\n",
      "   0.27502793  0.27385261  0.27267563  0.27149705  0.27031692  0.2691353\n",
      "   0.26795224  0.26676781  0.26558205  0.26439503  0.2632068   0.26201742\n",
      "   0.26082696  0.25963545]]\n"
     ]
    }
   ],
   "source": [
    "# Q1: When you multiply scores by 10, what happens?\n",
    "print(softmax(scores * 10))\n",
    "\n",
    "# Q2: When you divide scores by 10, what happens?\n",
    "print(softmax(scores / 10))"
   ]
  },
  {
   "cell_type": "code",
   "execution_count": null,
   "metadata": {
    "collapsed": true
   },
   "outputs": [],
   "source": [
    "# A1: Probabilities get close to 0.0 or 1.0. \n",
    "# -> increasing size of output makes your classifier more confident.\n",
    "# A2: Probabilites get close to a uniform distribution.\n",
    "# -> decreasing size of output makes your classifier more uncertain.\n",
    "\n",
    "# Bear in mind we don't want our classifier to be too confident \n",
    "# initially. We want it to become more confident as it learns with\n",
    "# time."
   ]
  },
  {
   "cell_type": "markdown",
   "metadata": {},
   "source": [
    "Represent labels mathematically with **one-hot encoding**.\n",
    "* We want the probabilities for the correct class to be close to 1 and the probabilities for incorrect class(es) to be close to 0.\n",
    "* Each label represented by vector as long as their classes. Has value 1.0 for the correct class and zero everywhere else.\n",
    "\n",
    "## Q: Confused as to whether you can swap a & c in the one-hot encoding quiz.\n",
    "\n",
    "One-hot encoding works well until you have tens of thousands or even millions of classes. Then you will have long vectors that contain mostly zeros, which is inefficient. We will deal with this problem later with **embeddings**."
   ]
  },
  {
   "cell_type": "markdown",
   "metadata": {},
   "source": [
    "## Cross-entropy\n",
    "\n",
    "Measure how we're doing by comparing S(Y) and one-hot encoding that corresponds to Y. Only used during training.\n",
    "\n",
    "Measure distance between the two probability vectors using **cross entropy D(S,L)**. \n",
    "\n",
    "$$D(S,L) = \\sum_i L_ilog(S_i)$$\n",
    "\n",
    "* D stands for distance.\n",
    "* S is softmax.\n",
    "* L is one-hot encoding labels.\n",
    "* D(S,L) is not symmetric. \n",
    "* Note log in expression. Softmax guarantees there are no zero probabilities, so you never take a log of zero.\n",
    "\n",
    "![cross_entropy](./images/cross_entropy.png)\n",
    "\n",
    "## Process outline: Multinomial Logistic Classification\n",
    "* Turn input into logits using a linear model (multiply by weight matrix and add a bias).\n",
    "* Feed logits (scores) into softmax to turn them into probabilities.\n",
    "* Compare softmax probabilities to one-hot encoded labels using cross-entropy.\n",
    "\n",
    "![multinomial_logistic_regression](./images/multinomial_logistic_regression.png)\n",
    "\n",
    "Q: How do we find the weights and bias b to have a low distance for the correct class and a high distance for the incorrect class?\n",
    "\n",
    "A: Can measure distance averaged over the entire training set. This is called the **training loss** or **cost**. We want to **minimise the loss**.\n",
    "\n",
    "We've turned a machine learning problem into a numerical optimisation problem. We usually solve this optimisation problem using **gradient descent**.\n",
    "\n",
    "![gradient_descent](./images/gradient_descent.png)"
   ]
  },
  {
   "cell_type": "markdown",
   "metadata": {},
   "source": [
    "Two remaining obstacles:\n",
    "1. Feeding image pixels into optimiser\n",
    "2. How to initialise optimiser"
   ]
  },
  {
   "cell_type": "markdown",
   "metadata": {},
   "source": [
    "### Numerical Stability\n",
    "Numerical computations: need to care about calculating values that are too large or too small.\n",
    "\n",
    "E.g. Adding small values to very large values can introduce large errors."
   ]
  },
  {
   "cell_type": "code",
   "execution_count": 28,
   "metadata": {
    "collapsed": false
   },
   "outputs": [
    {
     "name": "stdout",
     "output_type": "stream",
     "text": [
      "0.95367431640625\n"
     ]
    }
   ],
   "source": [
    "# This /should/ return 1.0\n",
    "z = 10**9\n",
    "for i in range(10**6):\n",
    "    z += 10**(-6)\n",
    "z -= 10**9\n",
    "print(z)"
   ]
  },
  {
   "cell_type": "code",
   "execution_count": 29,
   "metadata": {
    "collapsed": false
   },
   "outputs": [
    {
     "name": "stdout",
     "output_type": "stream",
     "text": [
      "0.9999999999177334\n"
     ]
    }
   ],
   "source": [
    "# Compare the error here where we don't have large \n",
    "# numbers to the error in the previous case.\n",
    "z = 1\n",
    "for i in range(10**6):\n",
    "    z += 10**(-6)\n",
    "z -= 1\n",
    "print(z)"
   ]
  },
  {
   "cell_type": "markdown",
   "metadata": {},
   "source": [
    "We want variables with **mean 0 and equal variance** in our optimisation problems. Union variance (var = 1) is nice.\n",
    "* Non-adherence to this can result in a **badly conditioned** (vs well-conditioned) problem: Optimiser needs to do lots of searching to find a good solution.\n",
    "\n",
    "Example: Normaliastion with images (R - 128)/128.\n",
    "\n",
    "### Initialising weight and biases\n",
    "Draw weights randomly from a Gaussian distribution N(0, sigma), where sigma is small.\n",
    "* Large sigma: Distribution has extreme peak. \n",
    "* Small sigma: Distribution is uncertain. Better to start with."
   ]
  },
  {
   "cell_type": "markdown",
   "metadata": {},
   "source": [
    "### Optimisation Process"
   ]
  },
  {
   "cell_type": "markdown",
   "metadata": {},
   "source": [
    "Deep learning is about scaling e.g. this linear model. You will notice it runs slowly even when we are using a linear model on a small amount of training data."
   ]
  },
  {
   "cell_type": "markdown",
   "metadata": {},
   "source": [
    "# Assignment 1\n",
    "\n",
    "See ``1. nmist`` notebook in TensorFlow directory."
   ]
  },
  {
   "cell_type": "markdown",
   "metadata": {},
   "source": [
    "Training, validation and testing sets.\n",
    "\n",
    "## Measuring performance\n",
    "\n",
    "More subtle than you think. \n",
    "\n",
    "Problem if you have no test set: classifier may only memorise a training set and not generalise.\n",
    "\n",
    "Problem if you have a test set but no validation set: In choosing parameters you gave a tiny bit of information to your classifier. So data from the validation set will bleed into your training set, but that's okay because you have test set you can rely on to measure your real performance."
   ]
  },
  {
   "cell_type": "markdown",
   "metadata": {},
   "source": [
    "### Validation Set Size\n",
    "The bigger your test size, the less noisy the accuracy measurement will be.\n",
    "Rule of thumb: A change that affects 30 examples is usually statistically significant and can be trusted. This heuristic only applies if classes are approximately equally distributed (i.e. important classes are not rare).\n",
    "\n",
    "People therefore often hold back over 30,000 examples for their validation set so that their accuracy can be significant to 1 decimal place.\n",
    "\n",
    "30,000 examples can be a lot. An alternative is **cross-validation**."
   ]
  },
  {
   "cell_type": "markdown",
   "metadata": {},
   "source": [
    "### More on Training Logistic Regression\n",
    "\n",
    "Training logistic regression using gradient descent is great: for one, you're directly optimising the error measure you care about. A lot of ML research is therefore about **designing the right loss functions to optimise**.\n",
    "\n",
    "BUT **gradient descent is difficult to scale**:\n",
    "* Loss function incorporates all datapoints.\n",
    "* Calculating the gradient takes 3x the computations for the loss function.\n",
    "* This process is iterative, so we have to do this tens or even hundreds of times.\n",
    "\n",
    "Instead of using all the data, we're going to use a tiny random sample of the data, say of size 1-1000. This seems like it will be a horrible estimator. Sometimes an iteration will get the direction of gradient descent completely wrong and increase the loss instead of decreasing it. We will compensate for this by increasing the number of iterations.\n",
    "\n",
    "This is called **stochastic gradient descent**. This scales well with both data and model size (it's the only method that's fast enough), and so is at the core of deep learning even though it has issues.\n",
    "\n",
    "### Things to Know when implementing SGD\n",
    "\n",
    "1. Inputs need to have mean 0 and equal (small) variance.\n",
    "2. Initial weights need to be random, have mean 0 and equal (small) variance.\n",
    "3. **Momentum**: During each step, we're taking a tiny step in a random direction. On aggregate, these steps take us toward the minimum of the loss. We can take the knowledge accumulated from previous steps to inform us about where we should be heading. We can do this by keeping a running average of the gradient and using that instead of the direction of the current batch of the data. (e.g. M <- 0.9M + derivative of current batch) This often leads to better convergence. \n",
    "4. **Learning rate decay**: With SGD, we're taking smaller, noisier steps towards our objective. So what should the **size of steps** be? (This is a whole area of research.) It turns out that it's always beneficial to make steps smaller and smaller as you train. E.g. you can use exponential decay or make steps smaller when the loss plateaus.\n",
    "\n",
    "### Learning rate tuning\n",
    "Lower learning rate can often make learning faster.\n",
    "\n",
    "SGD's reputation as 'Black Magic'\n",
    "\n",
    "Many hyperparameters:\n",
    "* Initial learning rate\n",
    "* Learning rate decay\n",
    "* Momentum\n",
    "* Batch size\n",
    "* Weight initialisation\n",
    "\n",
    "Tip: When things don't work, try to lower your learning rate first.\n",
    "\n",
    "Alternative approach: **ADAGRAD** is a modification of SGD that implicitly takes care of momentum and learning rate decacy for you. This makes learning less sensitive to hyperparameters and tends to be slightly worse than wewll-optimised SGD but is decent."
   ]
  }
 ],
 "metadata": {
  "anaconda-cloud": {},
  "kernelspec": {
   "display_name": "Python 2",
   "language": "python",
   "name": "python2"
  },
  "language_info": {
   "codemirror_mode": {
    "name": "ipython",
    "version": 2
   },
   "file_extension": ".py",
   "mimetype": "text/x-python",
   "name": "python",
   "nbconvert_exporter": "python",
   "pygments_lexer": "ipython2",
   "version": "2.7.10"
  }
 },
 "nbformat": 4,
 "nbformat_minor": 0
}
